{
 "cells": [
  {
   "cell_type": "code",
   "execution_count": 1,
   "id": "2c310583-2662-4037-ba07-8eea54c39858",
   "metadata": {},
   "outputs": [
    {
     "name": "stdin",
     "output_type": "stream",
     "text": [
      "Enter your First Name  Maneesh\n",
      "Enter your Last Name  Ghildiyal\n"
     ]
    },
    {
     "name": "stdout",
     "output_type": "stream",
     "text": [
      "Ghildiyal Maneesh\n"
     ]
    }
   ],
   "source": [
    "#taking inputs from user as first and last name\n",
    "first_name = (input(\"Enter your First Name \"))\n",
    "last_name = (input(\"Enter your Last Name \"))\n",
    "#using string methods\n",
    "#capitalize()is used for capitalizing the first letter of string\n",
    "#strip() is used for removing the trial spaces\n",
    "\n",
    "first_name = first_name.capitalize()\n",
    "last_name = last_name.capitalize()\n",
    "print(last_name +\" \"+ first_name)"
   ]
  },
  {
   "cell_type": "code",
   "execution_count": 2,
   "id": "3ff01431-1886-4450-90fa-f48afebaf747",
   "metadata": {},
   "outputs": [
    {
     "name": "stdin",
     "output_type": "stream",
     "text": [
      "Enter a number: 12\n"
     ]
    },
    {
     "name": "stdout",
     "output_type": "stream",
     "text": [
      "Integer value:12\n",
      "Float value: 12.0\n",
      "Complex value :(12+0j)\n"
     ]
    }
   ],
   "source": [
    "#convert a float first to handle decimal part\n",
    "#taking inputs from user\n",
    "user_input = input(\"Enter a number:\")\n",
    "\n",
    "#converting the input to the different numeric data types\n",
    "#int() converts the input to an integer\n",
    "\n",
    "int_value = int(float(user_input))\n",
    "#convert a float first to handle decimal part\n",
    "float_value = float(user_input)\n",
    "#complex() converts the input to a complex number\n",
    "complex_value = complex(user_input)\n",
    "#displaying the converted values\n",
    "print(f\"Integer value:{int_value}\")\n",
    "print(f\"Float value: {float_value}\")\n",
    "print(f\"Complex value :{complex_value}\")"
   ]
  },
  {
   "cell_type": "code",
   "execution_count": 3,
   "id": "32dc7d6b-9e46-4d06-8491-a9db2b0833fa",
   "metadata": {},
   "outputs": [
    {
     "name": "stdin",
     "output_type": "stream",
     "text": [
      " Enter the length of rectangle:  2\n",
      " Enter the breadth of rectangle:  4\n"
     ]
    },
    {
     "name": "stdout",
     "output_type": "stream",
     "text": [
      "the area of rectangle is :8\n"
     ]
    }
   ],
   "source": [
    "#taking inputs from user\n",
    "length=  int(input(\" Enter the length of rectangle: \"))\n",
    "breadth=  int(input(\" Enter the breadth of rectangle: \"))\n",
    "# calculating the area of rectangle\n",
    "area = length * breadth\n",
    "print (f\"the area of rectangle is :{area}\")"
   ]
  },
  {
   "cell_type": "code",
   "execution_count": 4,
   "id": "42257fe3-3d73-4e75-9560-508a42ff5fde",
   "metadata": {},
   "outputs": [
    {
     "name": "stdin",
     "output_type": "stream",
     "text": [
      "Enter the length of the rectangle:  2\n",
      "Enter the width of the rectangle:  6\n"
     ]
    },
    {
     "name": "stdout",
     "output_type": "stream",
     "text": [
      "The area of the rectangle is: 12.00 square units\n"
     ]
    }
   ],
   "source": [
    "# Prompt the user to enter the length and width of the rectangle\n",
    "length = int(input(\"Enter the length of the rectangle: \"))\n",
    "width = int(input(\"Enter the width of the rectangle: \"))\n",
    "\n",
    "# Calculate the area of the rectangle\n",
    "area = length * width\n",
    "\n",
    "# Display the result using the format method to show two decimal places\n",
    "print(\"The area of the rectangle is: {:.2f} square units\".format(area))"
   ]
  },
  {
   "cell_type": "code",
   "execution_count": 5,
   "id": "78d5d94f-0261-4e2c-8486-740b275e81ec",
   "metadata": {},
   "outputs": [
    {
     "name": "stdin",
     "output_type": "stream",
     "text": [
      "enter the number 80\n",
      "enter the number 60\n",
      "enter the number 70\n"
     ]
    },
    {
     "name": "stdout",
     "output_type": "stream",
     "text": [
      "the average of three numbers are:  163.33333333333334\n"
     ]
    }
   ],
   "source": [
    "#taking inputs from user\n",
    "num1= int (input(\"enter the number\"))\n",
    "num2 = int (input(\"enter the number\"))\n",
    "num3 = int(input(\"enter the number\"))\n",
    "#taking average of the number\n",
    "average= num1+num2+num3/3\n",
    "print(\"the average of three numbers are: \", average)"
   ]
  },
  {
   "cell_type": "code",
   "execution_count": 6,
   "id": "ba1fcfca-3f88-42a5-8234-8c6b5b9b88bb",
   "metadata": {},
   "outputs": [
    {
     "name": "stdin",
     "output_type": "stream",
     "text": [
      "Enter a number (or type 'exit' to quit):  12\n"
     ]
    },
    {
     "name": "stdout",
     "output_type": "stream",
     "text": [
      "The number is positive.\n"
     ]
    },
    {
     "name": "stdin",
     "output_type": "stream",
     "text": [
      "Enter a number (or type 'exit' to quit):  -68\n"
     ]
    },
    {
     "name": "stdout",
     "output_type": "stream",
     "text": [
      "The number is negative.\n"
     ]
    },
    {
     "name": "stdin",
     "output_type": "stream",
     "text": [
      "Enter a number (or type 'exit' to quit):  exit\n"
     ]
    },
    {
     "name": "stdout",
     "output_type": "stream",
     "text": [
      "Exiting the program.\n"
     ]
    }
   ],
   "source": [
    "while True:\n",
    "    # Prompt the user for input\n",
    "    user_input = input(\"Enter a number (or type 'exit' to quit): \").lower()\n",
    "\n",
    "    # Check if the user wants to exit\n",
    "    if user_input == 'exit':\n",
    "        print(\"Exiting the program.\")\n",
    "        break  # Exit the loop if the input is 'exit'\n",
    "\n",
    "    try:\n",
    "        # Convert the input to a float for numeric comparison\n",
    "        number = float(user_input)\n",
    "\n",
    "        # Check if the number is positive, negative, or zero\n",
    "        if number > 0:\n",
    "            print(\"The number is positive.\")\n",
    "        elif number < 0:\n",
    "            print(\"The number is negative.\")\n",
    "        else:\n",
    "            print(\"The number is zero.\")\n",
    "    except ValueError:\n",
    "        # Handle cases where the input is not a valid number\n",
    "        print(\"Please enter a valid number.\")"
   ]
  },
  {
   "cell_type": "code",
   "execution_count": 7,
   "id": "eda6d5a8-96e6-40ef-b0a6-32877d72de28",
   "metadata": {},
   "outputs": [
    {
     "name": "stdin",
     "output_type": "stream",
     "text": [
      "Enter the first number:  12\n",
      "Enter the second number:  45\n"
     ]
    },
    {
     "name": "stdout",
     "output_type": "stream",
     "text": [
      "One number is even and the other is odd.\n"
     ]
    }
   ],
   "source": [
    "# Taking two numbers as input from the user\n",
    "num1 = int(input(\"Enter the first number: \"))\n",
    "num2 = int(input(\"Enter the second number: \"))\n",
    "\n",
    "# Checking whether both numbers are even\n",
    "if num1 % 2 == 0 and num2 % 2 == 0:\n",
    "    print(\"Both numbers are even.\")\n",
    "# Checking whether both numbers are odd\n",
    "elif num1 % 2 != 0 and num2 % 2 != 0:\n",
    "    print(\"Both numbers are odd.\")\n",
    "# If neither of the above conditions are true, one number is even and the other is odd\n",
    "else:\n",
    "    print(\"One number is even and the other is odd.\")"
   ]
  },
  {
   "cell_type": "code",
   "execution_count": 8,
   "id": "ea4c750a-49d4-4d38-becb-27e70d7f16d5",
   "metadata": {},
   "outputs": [
    {
     "name": "stdin",
     "output_type": "stream",
     "text": [
      "Enter an integer:  68\n"
     ]
    },
    {
     "name": "stdout",
     "output_type": "stream",
     "text": [
      "Binary equivalent: 1000100\n",
      "Octal equivalent: 104\n",
      "Hexadecimal equivalent: 44\n"
     ]
    }
   ],
   "source": [
    "# Taking an integer input from the user\n",
    "num = int(input(\"Enter an integer: \"))\n",
    "\n",
    "# Dictionary to store the conversions\n",
    "conversions = {\"Binary\": bin(num), \"Octal\": oct(num), \"Hexadecimal\": hex(num)}\n",
    "\n",
    "# For loop to iterate over the dictionary and print results\n",
    "for base, value in conversions.items():\n",
    "    print(f\"{base} equivalent: {value[2:].upper()}\")\n",
    "# Remove '0b', '0o', '0x' prefix and convert to uppercase for hex"
   ]
  },
  {
   "cell_type": "code",
   "execution_count": null,
   "id": "940fb748-ce59-40eb-b6ba-cd318d76dcc1",
   "metadata": {},
   "outputs": [],
   "source": []
  }
 ],
 "metadata": {
  "kernelspec": {
   "display_name": "Python 3 (ipykernel)",
   "language": "python",
   "name": "python3"
  },
  "language_info": {
   "codemirror_mode": {
    "name": "ipython",
    "version": 3
   },
   "file_extension": ".py",
   "mimetype": "text/x-python",
   "name": "python",
   "nbconvert_exporter": "python",
   "pygments_lexer": "ipython3",
   "version": "3.12.6"
  }
 },
 "nbformat": 4,
 "nbformat_minor": 5
}
